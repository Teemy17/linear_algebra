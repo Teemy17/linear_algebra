{
 "cells": [
  {
   "cell_type": "code",
   "execution_count": null,
   "metadata": {},
   "outputs": [],
   "source": [
    "import numpy as np\n",
    "v = np.array([1,0])\n",
    "A = np.array([[1,2],[3,4]])\n",
    "B = np.array([[4,5],[6,7]])"
   ]
  },
  {
   "cell_type": "code",
   "execution_count": null,
   "metadata": {},
   "outputs": [],
   "source": [
    "# Matrix Addition\n",
    "np.add(A, B)\n",
    "A+B"
   ]
  },
  {
   "cell_type": "code",
   "execution_count": null,
   "metadata": {},
   "outputs": [],
   "source": [
    "# Matrix Subtraction\n",
    "np.subtract(A, B)\n",
    "B-A"
   ]
  },
  {
   "cell_type": "code",
   "execution_count": null,
   "metadata": {},
   "outputs": [],
   "source": [
    "# Matrix times vector\n",
    "np.matmul(A, v)\n",
    "A.dot(v)\n",
    "A @ v"
   ]
  },
  {
   "cell_type": "code",
   "execution_count": null,
   "metadata": {},
   "outputs": [],
   "source": [
    "# Matrix times matrix\n",
    "np.matmul(A, B)\n",
    "A.dot(B)\n",
    "A @ B"
   ]
  },
  {
   "cell_type": "code",
   "execution_count": null,
   "metadata": {},
   "outputs": [],
   "source": [
    "np.linalg.det(A)\n",
    "\n",
    "# Check if matrix is singular\n",
    "def is_singular(m):\n",
    "    if (np.linalg.det(m)):\n",
    "        print(\"Non singular matrix\")\n",
    "    else:\n",
    "        print(\"Singular matrix\")\n",
    "\n",
    "is_singular(A)"
   ]
  },
  {
   "cell_type": "code",
   "execution_count": null,
   "metadata": {},
   "outputs": [],
   "source": [
    "# Matrix Inverse\n",
    "np.linalg.inv(A)\n",
    "np.linalg.inv(B)"
   ]
  },
  {
   "cell_type": "code",
   "execution_count": 41,
   "metadata": {},
   "outputs": [
    {
     "name": "stdout",
     "output_type": "stream",
     "text": [
      "[1.11022302e-16 4.16333634e-17 2.00000000e+00]\n"
     ]
    }
   ],
   "source": [
    "# System of equations Ax = b\n",
    "A = np.array([[1,2,3], [2,5,2], [6,-3,1]])\n",
    "b = np.array([6,4,2])\n",
    "\n",
    "x = np.linalg.inv(A) @ b\n",
    "print(x)"
   ]
  },
  {
   "cell_type": "code",
   "execution_count": null,
   "metadata": {},
   "outputs": [],
   "source": [
    "# Rounding\n",
    "print(np.pi)\n",
    "print(x)\n",
    "print(A/7)\n",
    "\n",
    "round(np.pi)\n",
    "round(np.pi, 3)\n",
    "\n",
    "print(\"x = \", np.around(x, 3))\n",
    "print(\"A/7 = \\n\", np.around(A/7, 3))\n",
    "\n",
    "#if you only need for displaying, you can use\n",
    "np.set_printoptions(precision=3)"
   ]
  },
  {
   "cell_type": "code",
   "execution_count": null,
   "metadata": {},
   "outputs": [],
   "source": [
    "# creae identity matrices\n",
    "I2 = np.eye(2)\n",
    "I3 = np.identity(3)\n",
    "\n",
    "# size and shape\n",
    "print(I3.size)\n",
    "print(I3.shape)"
   ]
  },
  {
   "cell_type": "code",
   "execution_count": null,
   "metadata": {},
   "outputs": [
    {
     "name": "stdout",
     "output_type": "stream",
     "text": [
      "[[ 1  2  3]\n",
      " [ 2  5  2]\n",
      " [ 6 -3  1]]\n"
     ]
    },
    {
     "data": {
      "text/plain": [
       "array([ 2,  5, -3])"
      ]
     },
     "execution_count": 45,
     "metadata": {},
     "output_type": "execute_result"
    }
   ],
   "source": [
    "print(A)\n",
    "\n",
    "# access the element at row i column j\n",
    "A[2,1]\n",
    "A[2][1]\n",
    "\n",
    "# access the entire row or column\n",
    "A[1]\n",
    "A[:,2]"
   ]
  },
  {
   "cell_type": "code",
   "execution_count": null,
   "metadata": {},
   "outputs": [],
   "source": [
    "# Elimintation matrix\n",
    "E21 = np.eye(3)\n",
    "E21[1,0] = -2\n",
    "\n",
    "E31 = np.eye(3)\n",
    "E31[2,0] = -6\n",
    "A2 = E31 @ A\n",
    "\n",
    "E32 = np.eye(3)\n",
    "E32[2,1] = 15\n",
    "A3 = E32 @ A2"
   ]
  },
  {
   "cell_type": "code",
   "execution_count": 44,
   "metadata": {},
   "outputs": [
    {
     "name": "stdout",
     "output_type": "stream",
     "text": [
      "[[  1.   2.   3.]\n",
      " [  0.   1.  -4.]\n",
      " [  0.   0. -77.]]\n",
      "[   6.   -8. -154.]\n"
     ]
    },
    {
     "data": {
      "text/plain": [
       "array([-3.55271368e-15,  0.00000000e+00,  2.00000000e+00])"
      ]
     },
     "execution_count": 44,
     "metadata": {},
     "output_type": "execute_result"
    }
   ],
   "source": [
    "E = E32 @ (E31 @ E21)\n",
    "print(E @ A)\n",
    "print(E @ b)\n",
    "\n",
    "np.linalg.inv(E @ A) @ (E @ b)"
   ]
  },
  {
   "cell_type": "code",
   "execution_count": 46,
   "metadata": {},
   "outputs": [
    {
     "name": "stdout",
     "output_type": "stream",
     "text": [
      "[[1. 0. 0.]\n",
      " [0. 0. 1.]\n",
      " [0. 1. 0.]]\n",
      "[[ 1  2  3]\n",
      " [ 2  5  2]\n",
      " [ 6 -3  1]]\n",
      "[[ 1.  2.  3.]\n",
      " [ 6. -3.  1.]\n",
      " [ 2.  5.  2.]]\n"
     ]
    }
   ],
   "source": [
    "# Permuation matrix\n",
    "I = np.eye(3)\n",
    "P = I.copy() # don't use P = I\n",
    "\n",
    "# exchange row 2 and row 3\n",
    "P[1] = I[2]\n",
    "P[2] = I[1]\n",
    "print(P)\n",
    "\n",
    "print(A)\n",
    "print(P @ A)"
   ]
  },
  {
   "cell_type": "code",
   "execution_count": 65,
   "metadata": {},
   "outputs": [
    {
     "name": "stdout",
     "output_type": "stream",
     "text": [
      "\n",
      "A = \n",
      " [[6 5 4]\n",
      " [2 2 1]\n",
      " [3 1 4]]\n",
      "E = \n",
      " [[ 1.          0.          0.        ]\n",
      " [-0.33333333  1.          0.        ]\n",
      " [-0.5        -0.5         1.        ]]\n",
      "\n",
      "EA = \n",
      " [[ 6.     5.     4.   ]\n",
      " [ 0.     0.333 -0.333]\n",
      " [-1.    -2.5    1.5  ]]\n"
     ]
    }
   ],
   "source": [
    "\"\"\"\n",
    "Generate a 3 × 3 matrix with random integer element values\n",
    "from 1..9, (assuming it is non-singular), then find the\n",
    "Elimination matrix for this random matrix and the result\n",
    "after elimination.\n",
    "For example, if the function is called mat_elim(A)\n",
    "\"\"\"\n",
    "def mat_randint(s):\n",
    "    return np.random.randint(low=1, high=9, size=(s,s))\n",
    "\n",
    "def mat_elim(A):\n",
    "    n = A.shape[0]\n",
    "    E = np.eye(n)\n",
    "    for i in range(n-1):\n",
    "        for j in range(i+1, n):\n",
    "            E[j,i] = -A[j,i]/A[i,i]\n",
    "    return E\n",
    "\n",
    "# A = np.array([[1,1,8], [5,1,3], [7,6,6]])\n",
    "A = mat_randint(3)\n",
    "print(\"\\nA = \\n\", A)\n",
    "E = mat_elim(A)\n",
    "print(\"E = \\n\", E)\n",
    "print(\"\\nEA = \\n\", np.around(E @ A, 3))\n"
   ]
  },
  {
   "cell_type": "code",
   "execution_count": 59,
   "metadata": {},
   "outputs": [
    {
     "name": "stdout",
     "output_type": "stream",
     "text": [
      "[[2 7 2]\n",
      " [1 4 8]\n",
      " [3 6 3]]\n"
     ]
    }
   ],
   "source": [
    "print(A)"
   ]
  }
 ],
 "metadata": {
  "kernelspec": {
   "display_name": "Python 3",
   "language": "python",
   "name": "python3"
  },
  "language_info": {
   "codemirror_mode": {
    "name": "ipython",
    "version": 3
   },
   "file_extension": ".py",
   "mimetype": "text/x-python",
   "name": "python",
   "nbconvert_exporter": "python",
   "pygments_lexer": "ipython3",
   "version": "3.11.4"
  }
 },
 "nbformat": 4,
 "nbformat_minor": 2
}
